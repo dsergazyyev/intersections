{
 "cells": [
  {
   "cell_type": "markdown",
   "id": "6bf9c30b-e782-44d0-9a61-4f632d0820a0",
   "metadata": {},
   "source": [
    "### agenda\n",
    "- intro\n",
    "- logic\n",
    "- code\n",
    "- example"
   ]
  },
  {
   "cell_type": "markdown",
   "id": "36adfefb-9d0c-40aa-afb8-ce60cd20285e",
   "metadata": {
    "tags": []
   },
   "source": [
    "### intro"
   ]
  },
  {
   "cell_type": "markdown",
   "id": "d00d6f50-73b3-4571-99c1-a2d6a4cc48c3",
   "metadata": {},
   "source": [
    "who thought work could be interesting? (kidding) <br>\n",
    "one of the projects was to find intersections of cables along the road given the coordinates <br>\n",
    "the business question was to determine if it is more profitable to buy another company's cable network rather than constructing own network <br>\n",
    "the algorithm below finds intersection, coverage of layers in meters, and critically i would say it is a good solution but not the perfect one"
   ]
  },
  {
   "cell_type": "markdown",
   "id": "f9fa12a9-1c9d-42e3-86b4-8e1563ce8897",
   "metadata": {},
   "source": [
    "### logic"
   ]
  },
  {
   "cell_type": "markdown",
   "id": "d4b1af57-8a3e-417f-aefc-46bf09e1c6dd",
   "metadata": {},
   "source": [
    "in general, my aim was to divide each layer (cables around the road that we want to compare) into some intervals <br>\n",
    "then i would find the distances between those intervals and if they were less than some threshold we could say the layers intersect <br>\n",
    "to make us believe into the solution, visual part is needed otherwise we just rely on  <u> the best source </u>\n",
    "<div style=\"text-align: center;\">\n",
    "    <img src=\"https://raw.githubusercontent.com/dsergazyyev/intersections/master/trustmebro.jpg\" alt=\"examplepy\" width=\"200\" height=\"200\">\n",
    "</div>"
   ]
  },
  {
   "cell_type": "markdown",
   "id": "66ed30cd-72ef-402f-ae57-578a06a121bc",
   "metadata": {},
   "source": [
    "### code"
   ]
  },
  {
   "cell_type": "markdown",
   "id": "b61c557f-ad16-4d5c-aabc-a5de84f36bac",
   "metadata": {},
   "source": [
    "the best way to solve a problem is to break it down into small pieces (i'm sure you heard this a million times) <br>\n",
    "first, we need to calculate the distance between two coordinates <br>\n",
    "thanks to gpt to provide a ready to go (don't know the meaning but sounds good) function"
   ]
  },
  {
   "cell_type": "code",
   "execution_count": 1,
   "id": "0c4593c8-2999-41c8-ad0a-f2878bff8e5e",
   "metadata": {
    "tags": []
   },
   "outputs": [],
   "source": [
    "# distance between two coordinates\n",
    "\n",
    "from geopy.distance import geodesic\n",
    "\n",
    "def distance_cc(coordinate1, coordinate2):\n",
    "    \n",
    "    return geodesic(coordinate1, coordinate2).meters"
   ]
  },
  {
   "cell_type": "markdown",
   "id": "69bf060e-0166-4af3-a9f6-0783ab0fda75",
   "metadata": {},
   "source": [
    "the function below creates intervals depending on how close do you want the coordinates to be <br>\n",
    "to handle a case where you already have some coordinates that are located not too far there is some if statement <br>"
   ]
  },
  {
   "cell_type": "code",
   "execution_count": 2,
   "id": "34a60fcb-5bc9-4940-8a43-cae003bbaa8b",
   "metadata": {
    "tags": []
   },
   "outputs": [],
   "source": [
    "# create intervals along the road\n",
    "\n",
    "def create_intervals(road, interval = 100):\n",
    "    intervals = []\n",
    "    for i in range(len(road) - 1):\n",
    "        currentc = road[i]\n",
    "        nextc = road[i + 1]\n",
    "\n",
    "        # calculate the distance between consecutive points\n",
    "        distance = distance_cc(currentc, nextc)\n",
    "    \n",
    "        # check if distance is less than interval\n",
    "        if distance < interval:\n",
    "            if currentc not in intervals:\n",
    "                intervals.append(currentc)\n",
    "            if nextc not in intervals:\n",
    "                intervals.append(nextc)\n",
    "        else:\n",
    "            # calculate the number of intervals needed\n",
    "            num_intervals = int(distance / interval)\n",
    "\n",
    "            # generate points along the line\n",
    "            for j in range(num_intervals + 1):\n",
    "                alpha = j / num_intervals\n",
    "                point = (currentc[0] + alpha * (nextc[0] - currentc[0]), currentc[1] + alpha * (nextc[1] - currentc[1]))\n",
    "\n",
    "                if point not in intervals:\n",
    "                    intervals.append(point)\n",
    "    return intervals"
   ]
  },
  {
   "cell_type": "markdown",
   "id": "7e275812-0ac7-4b31-a515-602ea7257a6d",
   "metadata": {},
   "source": [
    "the middle points are ingredients of intersection line, so to make it more fancy i separated the function (thought it doesn't play a big role)"
   ]
  },
  {
   "cell_type": "code",
   "execution_count": 3,
   "id": "807129b6-4642-44a8-a01b-329248a3ecc2",
   "metadata": {},
   "outputs": [],
   "source": [
    "def find_middle(coordinate1, coordinate2):\n",
    "    return ((coordinate1[0] + coordinate2[0])/2, (coordinate1[1] + coordinate2[1])/2)"
   ]
  },
  {
   "cell_type": "markdown",
   "id": "0b8575bf-5e56-478f-b2d2-2dca2e1797d6",
   "metadata": {},
   "source": [
    "in short, intersections function generates a list of middle points <br>\n",
    "you can choose threshold of how close cables could be to find intersection <br>\n",
    "by default it is 50 meters "
   ]
  },
  {
   "cell_type": "code",
   "execution_count": 4,
   "id": "d3af811d-947a-41b6-970a-de512546c667",
   "metadata": {
    "tags": []
   },
   "outputs": [],
   "source": [
    "def intersections(road1, road2, threshold = 50):\n",
    "    # extended roads\n",
    "    road1_extended = create_intervals(road1)\n",
    "    road2_extended = create_intervals(road2)\n",
    "    \n",
    "    mid = []\n",
    "    # inters\n",
    "    for p1 in road1_extended:\n",
    "        for p2 in road2_extended:\n",
    "            dist = distance_cc(p1, p2)\n",
    "            \n",
    "            if dist < threshold:\n",
    "                midp = find_middle(p1, p2)\n",
    "                mid.append(midp)\n",
    "            \n",
    "    return mid"
   ]
  },
  {
   "cell_type": "markdown",
   "id": "f9f044b8-923e-48c7-b1b8-2aad70a6e03e",
   "metadata": {},
   "source": [
    "to compare the lengths of cables (in our case) the function below calculates the coverage of a layer (or cable)"
   ]
  },
  {
   "cell_type": "code",
   "execution_count": 5,
   "id": "65f3d2b3-5e67-42ef-9e74-87c52947d187",
   "metadata": {},
   "outputs": [],
   "source": [
    "def len_result(road):\n",
    "    # calculate length of cable\n",
    "    sum = 0\n",
    "    for i in range(len(road)-1):\n",
    "        sum += distance_cc(road[i], road[i+1])\n",
    "    return int(sum)"
   ]
  },
  {
   "cell_type": "markdown",
   "id": "e3ed5ea9-4219-4a24-8d6f-32df3f464f1b",
   "metadata": {},
   "source": [
    "folium is my new bestfriend (of course after gpt) because it makes the work visible "
   ]
  },
  {
   "cell_type": "code",
   "execution_count": 6,
   "id": "7d7963da-9b0c-410b-b058-dee7a562cbe4",
   "metadata": {
    "tags": []
   },
   "outputs": [],
   "source": [
    "import folium\n",
    "from IPython.display import display\n",
    "\n",
    "def plot_map(layer1, layer2, intersections):\n",
    "\n",
    "    # centered map\n",
    "    map_center = [\n",
    "        (sum(x[0] for x in layer1) + \n",
    "         sum(y[0] for y in layer2) +\n",
    "         sum(z[0] for z in intersections)) / \n",
    "        (len(layer1) + len(layer2) + len(intersections)),\n",
    "        (sum(x[1] for x in layer1) + \n",
    "         sum(y[1] for y in layer2) +\n",
    "         sum(z[1] for z in intersections)) / \n",
    "        (len(layer1) + len(layer2) + len(intersections)) ]\n",
    "    \n",
    "    my_map = folium.Map(location=map_center, zoom_start=10)\n",
    "  \n",
    "    l1 = folium.FeatureGroup(name='Layer 1')\n",
    "    l2 = folium.FeatureGroup(name='Layer 2')\n",
    "    l3 = folium.FeatureGroup(name='Intersection')\n",
    "    \n",
    "    # lines\n",
    "    folium.PolyLine(locations=layer1, color='red').add_to(l1)\n",
    "    folium.PolyLine(locations=layer2, color='blue').add_to(l2)   \n",
    "    folium.PolyLine(locations=intersections, color='black').add_to(l3)\n",
    "    \n",
    "    l1.add_to(my_map)\n",
    "    l2.add_to(my_map)\n",
    "    l3.add_to(my_map)\n",
    "    \n",
    "    folium.LayerControl().add_to(my_map)\n",
    "\n",
    "    return my_map"
   ]
  },
  {
   "cell_type": "markdown",
   "id": "c8c8304d-99d6-48c5-8731-eacdefb84c89",
   "metadata": {
    "tags": []
   },
   "source": [
    "### example"
   ]
  },
  {
   "cell_type": "code",
   "execution_count": 7,
   "id": "cc2772a6-6cb4-4edf-a758-06422a7ed597",
   "metadata": {
    "tags": []
   },
   "outputs": [],
   "source": [
    "r1 = [\n",
    "    (37.7749, -122.4194),\n",
    "    (37.7755, -122.4185),\n",
    "    (37.7761, -122.4176),\n",
    "    (37.7770, -122.4168),\n",
    "    (37.7780, -122.4158),\n",
    "    (37.7790, -122.4145),\n",
    "    (37.7800, -122.4130),\n",
    "    (37.7810, -122.4115),\n",
    "    (37.7820, -122.4100),\n",
    "    (37.7830, -122.4085),\n",
    "    (37.7840, -122.4070),\n",
    "    (37.7850, -122.4055),\n",
    "    (37.7860, -122.4040),\n",
    "    (37.7870, -122.4030),\n",
    "    (37.7880, -122.4020),\n",
    "    (37.7890, -122.4010),\n",
    "    (37.7900, -122.4000),\n",
    "    (37.7910, -122.3990),\n",
    "    (37.7920, -122.3980),\n",
    "    (37.7930, -122.3970)]\n"
   ]
  },
  {
   "cell_type": "code",
   "execution_count": 8,
   "id": "b526e263-de3a-4d7e-9cf9-977e8f792687",
   "metadata": {
    "tags": []
   },
   "outputs": [],
   "source": [
    "r2 = [\n",
    "    (37.7749, -122.4194),\n",
    "    (37.7755, -122.418),\n",
    "    (37.7761, -122.4166),\n",
    "    (37.777, -122.415),\n",
    "    (37.778, -122.4135),\n",
    "    (37.779, -122.412),\n",
    "    (37.78, -122.4105),\n",
    "    (37.781, -122.409),\n",
    "    (37.782, -122.4075),\n",
    "    (37.783, -122.406),\n",
    "    (37.784, -122.4045),\n",
    "    (37.784, -122.402),\n",
    "    (37.784, -122.3995),\n",
    "    (37.784, -122.3975),\n",
    "    (37.784, -122.3955),\n",
    "    (37.784, -122.3935)]"
   ]
  },
  {
   "cell_type": "code",
   "execution_count": 9,
   "id": "cb7954ba-b221-4c8f-99b0-21c6aa527f73",
   "metadata": {
    "tags": []
   },
   "outputs": [],
   "source": [
    "inters = intersections(r1, r2, 150)"
   ]
  },
  {
   "cell_type": "code",
   "execution_count": 10,
   "id": "3475f5fb-b69f-4382-bff8-0658644e4ad6",
   "metadata": {
    "tags": []
   },
   "outputs": [
    {
     "data": {
      "text/html": [
       "<div style=\"width:100%;\"><div style=\"position:relative;width:100%;height:0;padding-bottom:60%;\"><span style=\"color:#565656\">Make this Notebook Trusted to load map: File -> Trust Notebook</span><iframe srcdoc=\"&lt;!DOCTYPE html&gt;\n",
       "&lt;html&gt;\n",
       "&lt;head&gt;\n",
       "    \n",
       "    &lt;meta http-equiv=&quot;content-type&quot; content=&quot;text/html; charset=UTF-8&quot; /&gt;\n",
       "    \n",
       "        &lt;script&gt;\n",
       "            L_NO_TOUCH = false;\n",
       "            L_DISABLE_3D = false;\n",
       "        &lt;/script&gt;\n",
       "    \n",
       "    &lt;style&gt;html, body {width: 100%;height: 100%;margin: 0;padding: 0;}&lt;/style&gt;\n",
       "    &lt;style&gt;#map {position:absolute;top:0;bottom:0;right:0;left:0;}&lt;/style&gt;\n",
       "    &lt;script src=&quot;https://cdn.jsdelivr.net/npm/leaflet@1.9.3/dist/leaflet.js&quot;&gt;&lt;/script&gt;\n",
       "    &lt;script src=&quot;https://code.jquery.com/jquery-3.7.1.min.js&quot;&gt;&lt;/script&gt;\n",
       "    &lt;script src=&quot;https://cdn.jsdelivr.net/npm/bootstrap@5.2.2/dist/js/bootstrap.bundle.min.js&quot;&gt;&lt;/script&gt;\n",
       "    &lt;script src=&quot;https://cdnjs.cloudflare.com/ajax/libs/Leaflet.awesome-markers/2.0.2/leaflet.awesome-markers.js&quot;&gt;&lt;/script&gt;\n",
       "    &lt;link rel=&quot;stylesheet&quot; href=&quot;https://cdn.jsdelivr.net/npm/leaflet@1.9.3/dist/leaflet.css&quot;/&gt;\n",
       "    &lt;link rel=&quot;stylesheet&quot; href=&quot;https://cdn.jsdelivr.net/npm/bootstrap@5.2.2/dist/css/bootstrap.min.css&quot;/&gt;\n",
       "    &lt;link rel=&quot;stylesheet&quot; href=&quot;https://netdna.bootstrapcdn.com/bootstrap/3.0.0/css/bootstrap.min.css&quot;/&gt;\n",
       "    &lt;link rel=&quot;stylesheet&quot; href=&quot;https://cdn.jsdelivr.net/npm/@fortawesome/fontawesome-free@6.2.0/css/all.min.css&quot;/&gt;\n",
       "    &lt;link rel=&quot;stylesheet&quot; href=&quot;https://cdnjs.cloudflare.com/ajax/libs/Leaflet.awesome-markers/2.0.2/leaflet.awesome-markers.css&quot;/&gt;\n",
       "    &lt;link rel=&quot;stylesheet&quot; href=&quot;https://cdn.jsdelivr.net/gh/python-visualization/folium/folium/templates/leaflet.awesome.rotate.min.css&quot;/&gt;\n",
       "    \n",
       "            &lt;meta name=&quot;viewport&quot; content=&quot;width=device-width,\n",
       "                initial-scale=1.0, maximum-scale=1.0, user-scalable=no&quot; /&gt;\n",
       "            &lt;style&gt;\n",
       "                #map_70d284fdb9c9931fd020cb8bfdf9bd8a {\n",
       "                    position: relative;\n",
       "                    width: 100.0%;\n",
       "                    height: 100.0%;\n",
       "                    left: 0.0%;\n",
       "                    top: 0.0%;\n",
       "                }\n",
       "                .leaflet-container { font-size: 1rem; }\n",
       "            &lt;/style&gt;\n",
       "        \n",
       "&lt;/head&gt;\n",
       "&lt;body&gt;\n",
       "    \n",
       "    \n",
       "            &lt;div class=&quot;folium-map&quot; id=&quot;map_70d284fdb9c9931fd020cb8bfdf9bd8a&quot; &gt;&lt;/div&gt;\n",
       "        \n",
       "&lt;/body&gt;\n",
       "&lt;script&gt;\n",
       "    \n",
       "    \n",
       "            var map_70d284fdb9c9931fd020cb8bfdf9bd8a = L.map(\n",
       "                &quot;map_70d284fdb9c9931fd020cb8bfdf9bd8a&quot;,\n",
       "                {\n",
       "                    center: [37.78116176470588, -122.40962549019609],\n",
       "                    crs: L.CRS.EPSG3857,\n",
       "                    zoom: 10,\n",
       "                    zoomControl: true,\n",
       "                    preferCanvas: false,\n",
       "                }\n",
       "            );\n",
       "\n",
       "            \n",
       "\n",
       "        \n",
       "    \n",
       "            var tile_layer_90ac6ca6104329d28fb2427d4ec720ea = L.tileLayer(\n",
       "                &quot;https://{s}.tile.openstreetmap.org/{z}/{x}/{y}.png&quot;,\n",
       "                {&quot;attribution&quot;: &quot;Data by \\u0026copy; \\u003ca target=\\&quot;_blank\\&quot; href=\\&quot;http://openstreetmap.org\\&quot;\\u003eOpenStreetMap\\u003c/a\\u003e, under \\u003ca target=\\&quot;_blank\\&quot; href=\\&quot;http://www.openstreetmap.org/copyright\\&quot;\\u003eODbL\\u003c/a\\u003e.&quot;, &quot;detectRetina&quot;: false, &quot;maxNativeZoom&quot;: 18, &quot;maxZoom&quot;: 18, &quot;minZoom&quot;: 0, &quot;noWrap&quot;: false, &quot;opacity&quot;: 1, &quot;subdomains&quot;: &quot;abc&quot;, &quot;tms&quot;: false}\n",
       "            );\n",
       "        \n",
       "    \n",
       "                tile_layer_90ac6ca6104329d28fb2427d4ec720ea.addTo(map_70d284fdb9c9931fd020cb8bfdf9bd8a);\n",
       "    \n",
       "            var feature_group_fde0939c2d9c03ac6461f8899e45b3fb = L.featureGroup(\n",
       "                {}\n",
       "            );\n",
       "        \n",
       "    \n",
       "            var poly_line_50bcac7600d4b6efd1659bd01a62f99b = L.polyline(\n",
       "                [[37.7749, -122.4194], [37.7755, -122.4185], [37.7761, -122.4176], [37.777, -122.4168], [37.778, -122.4158], [37.779, -122.4145], [37.78, -122.413], [37.781, -122.4115], [37.782, -122.41], [37.783, -122.4085], [37.784, -122.407], [37.785, -122.4055], [37.786, -122.404], [37.787, -122.403], [37.788, -122.402], [37.789, -122.401], [37.79, -122.4], [37.791, -122.399], [37.792, -122.398], [37.793, -122.397]],\n",
       "                {&quot;bubblingMouseEvents&quot;: true, &quot;color&quot;: &quot;red&quot;, &quot;dashArray&quot;: null, &quot;dashOffset&quot;: null, &quot;fill&quot;: false, &quot;fillColor&quot;: &quot;red&quot;, &quot;fillOpacity&quot;: 0.2, &quot;fillRule&quot;: &quot;evenodd&quot;, &quot;lineCap&quot;: &quot;round&quot;, &quot;lineJoin&quot;: &quot;round&quot;, &quot;noClip&quot;: false, &quot;opacity&quot;: 1.0, &quot;smoothFactor&quot;: 1.0, &quot;stroke&quot;: true, &quot;weight&quot;: 3}\n",
       "            ).addTo(feature_group_fde0939c2d9c03ac6461f8899e45b3fb);\n",
       "        \n",
       "    \n",
       "                feature_group_fde0939c2d9c03ac6461f8899e45b3fb.addTo(map_70d284fdb9c9931fd020cb8bfdf9bd8a);\n",
       "    \n",
       "            var feature_group_998783fde7f0e7217c6b0d325623e472 = L.featureGroup(\n",
       "                {}\n",
       "            );\n",
       "        \n",
       "    \n",
       "            var poly_line_0a737e458903cbe28df84d083433b0c2 = L.polyline(\n",
       "                [[37.7749, -122.4194], [37.7755, -122.418], [37.7761, -122.4166], [37.777, -122.415], [37.778, -122.4135], [37.779, -122.412], [37.78, -122.4105], [37.781, -122.409], [37.782, -122.4075], [37.783, -122.406], [37.784, -122.4045], [37.784, -122.402], [37.784, -122.3995], [37.784, -122.3975], [37.784, -122.3955], [37.784, -122.3935]],\n",
       "                {&quot;bubblingMouseEvents&quot;: true, &quot;color&quot;: &quot;blue&quot;, &quot;dashArray&quot;: null, &quot;dashOffset&quot;: null, &quot;fill&quot;: false, &quot;fillColor&quot;: &quot;blue&quot;, &quot;fillOpacity&quot;: 0.2, &quot;fillRule&quot;: &quot;evenodd&quot;, &quot;lineCap&quot;: &quot;round&quot;, &quot;lineJoin&quot;: &quot;round&quot;, &quot;noClip&quot;: false, &quot;opacity&quot;: 1.0, &quot;smoothFactor&quot;: 1.0, &quot;stroke&quot;: true, &quot;weight&quot;: 3}\n",
       "            ).addTo(feature_group_998783fde7f0e7217c6b0d325623e472);\n",
       "        \n",
       "    \n",
       "                feature_group_998783fde7f0e7217c6b0d325623e472.addTo(map_70d284fdb9c9931fd020cb8bfdf9bd8a);\n",
       "    \n",
       "            var feature_group_f29b9abd3836c7fbf340b7a382618a87 = L.featureGroup(\n",
       "                {}\n",
       "            );\n",
       "        \n",
       "    \n",
       "            var poly_line_7b06a02885867fe81973846b340798d0 = L.polyline(\n",
       "                [[37.7749, -122.4194], [37.7752, -122.4187], [37.7752, -122.41895], [37.7755, -122.41825], [37.775800000000004, -122.4178], [37.7761, -122.4171], [37.77655, -122.41669999999999], [37.7775, -122.4154], [37.7785, -122.414], [37.7795, -122.4125], [37.7805, -122.411], [37.781499999999994, -122.40950000000001], [37.7825, -122.408], [37.783500000000004, -122.4065], [37.784499999999994, -122.405]],\n",
       "                {&quot;bubblingMouseEvents&quot;: true, &quot;color&quot;: &quot;black&quot;, &quot;dashArray&quot;: null, &quot;dashOffset&quot;: null, &quot;fill&quot;: false, &quot;fillColor&quot;: &quot;black&quot;, &quot;fillOpacity&quot;: 0.2, &quot;fillRule&quot;: &quot;evenodd&quot;, &quot;lineCap&quot;: &quot;round&quot;, &quot;lineJoin&quot;: &quot;round&quot;, &quot;noClip&quot;: false, &quot;opacity&quot;: 1.0, &quot;smoothFactor&quot;: 1.0, &quot;stroke&quot;: true, &quot;weight&quot;: 3}\n",
       "            ).addTo(feature_group_f29b9abd3836c7fbf340b7a382618a87);\n",
       "        \n",
       "    \n",
       "                feature_group_f29b9abd3836c7fbf340b7a382618a87.addTo(map_70d284fdb9c9931fd020cb8bfdf9bd8a);\n",
       "    \n",
       "            var layer_control_12ca66b53ce0ef8f51b647bee47e77fa_layers = {\n",
       "                base_layers : {\n",
       "                    &quot;openstreetmap&quot; : tile_layer_90ac6ca6104329d28fb2427d4ec720ea,\n",
       "                },\n",
       "                overlays :  {\n",
       "                    &quot;Layer 1&quot; : feature_group_fde0939c2d9c03ac6461f8899e45b3fb,\n",
       "                    &quot;Layer 2&quot; : feature_group_998783fde7f0e7217c6b0d325623e472,\n",
       "                    &quot;Intersection&quot; : feature_group_f29b9abd3836c7fbf340b7a382618a87,\n",
       "                },\n",
       "            };\n",
       "            let layer_control_12ca66b53ce0ef8f51b647bee47e77fa = L.control.layers(\n",
       "                layer_control_12ca66b53ce0ef8f51b647bee47e77fa_layers.base_layers,\n",
       "                layer_control_12ca66b53ce0ef8f51b647bee47e77fa_layers.overlays,\n",
       "                {&quot;autoZIndex&quot;: true, &quot;collapsed&quot;: true, &quot;position&quot;: &quot;topright&quot;}\n",
       "            ).addTo(map_70d284fdb9c9931fd020cb8bfdf9bd8a);\n",
       "\n",
       "        \n",
       "&lt;/script&gt;\n",
       "&lt;/html&gt;\" style=\"position:absolute;width:100%;height:100%;left:0;top:0;border:none !important;\" allowfullscreen webkitallowfullscreen mozallowfullscreen></iframe></div></div>"
      ],
      "text/plain": [
       "<folium.folium.Map at 0x1f1eea2fe50>"
      ]
     },
     "execution_count": 10,
     "metadata": {},
     "output_type": "execute_result"
    }
   ],
   "source": [
    "plot_map(r1, r2, inters)"
   ]
  },
  {
   "cell_type": "code",
   "execution_count": 11,
   "id": "3584ba73-482f-4505-a67e-cc30706e2d1f",
   "metadata": {
    "tags": []
   },
   "outputs": [
    {
     "name": "stdout",
     "output_type": "stream",
     "text": [
      "the length of red line is 2830 meters\n",
      "the length of blue line is 2630 meters\n",
      "the length of black line (intersection) is 1702 meters\n"
     ]
    }
   ],
   "source": [
    "print(f'the length of red line is {len_result(r1)} meters')\n",
    "print(f'the length of blue line is {len_result(r2)} meters')\n",
    "print(f'the length of black line (intersection) is {len_result(inters)} meters')"
   ]
  },
  {
   "cell_type": "markdown",
   "id": "64d219ed-7759-4429-986a-150001267e6f",
   "metadata": {},
   "source": [
    "other calculations and analysis depend on you: <br>\n",
    "the percent of coverage, whether red line is your company and you want to compare it to other ones which would represent blue lines <br>\n",
    "have fun and i wish you to implement a better solution :)"
   ]
  }
 ],
 "metadata": {
  "kernelspec": {
   "display_name": "Python 3 (ipykernel)",
   "language": "python",
   "name": "python3"
  },
  "language_info": {
   "codemirror_mode": {
    "name": "ipython",
    "version": 3
   },
   "file_extension": ".py",
   "mimetype": "text/x-python",
   "name": "python",
   "nbconvert_exporter": "python",
   "pygments_lexer": "ipython3",
   "version": "3.11.5"
  }
 },
 "nbformat": 4,
 "nbformat_minor": 5
}
